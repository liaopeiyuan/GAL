{
 "cells": [
  {
   "cell_type": "code",
   "execution_count": 3,
   "metadata": {},
   "outputs": [],
   "source": [
    "import json\n",
    "lambdas = [0, 1e-4, 1e-3, 1e-2, 1e-1, 0.5, 1, 10, 100, 1000]\n",
    "seeds = [0,2077,2434,314159]\n",
    "d = {\n",
    "  \"task\": \"Neighbor_Attack\",\n",
    "  \"model\": \"GAL\",\n",
    "  \"experiment\": \"lambda_curve\",\n",
    "  \"show_tqdm\": 0,\n",
    "  \"num_epochs\": 25,\n",
    "  \"batch_size\": 8192,\n",
    "  \"valid_freq\": 1,\n",
    "  \"embed_dim\": 20,\n",
    "  \"lr\": 0.01,\n",
    "  \"prefetch_to_gpu\": 0,\n",
    "  \"seed\": 11,\n",
    "  \"debug\": 0,\n",
    "  \"gnn_layers\": 2,\n",
    "  \"gnn_type\": \"ChebConv\",\n",
    "  \"finetune_epochs\": 30,\n",
    "  \"data_path\" : \"/\",\n",
    "  \"cutoff\" : 0.8,\n",
    "  \"lambda_reg\": 0.5\n",
    "}\n",
    "\n",
    "for l in lambdas:\n",
    "    for seed in seeds:\n",
    "        with open('neighbor_attack_lambda_'+str(seed)+'_'+str(l)+'.json', 'w') as outfile:\n",
    "            d['lambda_reg'] = l\n",
    "            d['seed']=seed\n",
    "            json.dump(d, outfile) "
   ]
  },
  {
   "cell_type": "code",
   "execution_count": null,
   "metadata": {},
   "outputs": [],
   "source": []
  }
 ],
 "metadata": {
  "kernelspec": {
   "display_name": "Python 3",
   "language": "python",
   "name": "python3"
  },
  "language_info": {
   "codemirror_mode": {
    "name": "ipython",
    "version": 3
   },
   "file_extension": ".py",
   "mimetype": "text/x-python",
   "name": "python",
   "nbconvert_exporter": "python",
   "pygments_lexer": "ipython3",
   "version": "3.7.6"
  }
 },
 "nbformat": 4,
 "nbformat_minor": 4
}
