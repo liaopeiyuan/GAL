{
 "cells": [
  {
   "cell_type": "code",
   "execution_count": 12,
   "metadata": {},
   "outputs": [],
   "source": [
    "!rm *.json"
   ]
  },
  {
   "cell_type": "code",
   "execution_count": 13,
   "metadata": {},
   "outputs": [],
   "source": [
    "import json\n",
    "modes = ['SAGEConv','ChebConv']\n",
    "seeds = [0,2077,2434,314159,42]\n",
    "lamb = [0, 0.5, 4]\n",
    "d = {\n",
    "  \"task\": \"Node_Attack\",\n",
    "  \"model\": \"GAL\",\n",
    "  \"experiment\": \"ablation\",\n",
    "  \"show_tqdm\": 0,\n",
    "  \"num_epochs\": 30,\n",
    "  \"batch_size\": 8192,\n",
    "  \"valid_freq\": 1,\n",
    "  \"embed_dim\": 20,\n",
    "  \"lr\": 0.01,\n",
    "  \"prefetch_to_gpu\": 0,\n",
    "  \"seed\": 11,\n",
    "  \"debug\": 0,\n",
    "  \"gnn_layers\": 2,\n",
    "  \"gnn_type\": \"ChebConv\",\n",
    "  \"finetune_epochs\": 20,\n",
    "  \"data_path\" : \"/\",\n",
    "  \"cutoff\" : 0.8,\n",
    "  \"lambda_reg\": 0.5\n",
    "}\n",
    "model = 'GAL'\n",
    "for mode in modes:\n",
    "    for seed in seeds:\n",
    "        for l in lamb:\n",
    "            with open(str(model)+'_'+str(mode)+'_'+str(seed)+'_'+str(l)+'.json', 'w') as outfile:\n",
    "                d['gnn_type']=mode\n",
    "                d['seed']=seed\n",
    "                d['lambda_reg']= l\n",
    "                json.dump(d, outfile) \n"
   ]
  },
  {
   "cell_type": "code",
   "execution_count": null,
   "metadata": {},
   "outputs": [],
   "source": []
  }
 ],
 "metadata": {
  "kernelspec": {
   "display_name": "Python 3",
   "language": "python",
   "name": "python3"
  },
  "language_info": {
   "codemirror_mode": {
    "name": "ipython",
    "version": 3
   },
   "file_extension": ".py",
   "mimetype": "text/x-python",
   "name": "python",
   "nbconvert_exporter": "python",
   "pygments_lexer": "ipython3",
   "version": "3.7.6"
  }
 },
 "nbformat": 4,
 "nbformat_minor": 4
}
