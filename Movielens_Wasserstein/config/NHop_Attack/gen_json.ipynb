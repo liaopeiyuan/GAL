{
 "cells": [
  {
   "cell_type": "code",
   "execution_count": 3,
   "metadata": {},
   "outputs": [],
   "source": [
    "import json\n",
    "modes = ['GAL']\n",
    "seeds = [0,2077,2434,314159,42]\n",
    "d = {\n",
    "  \"task\": \"NHop_Attack\",\n",
    "  \"model\": \"GAL\",\n",
    "  \"experiment\": \"nhop\",\n",
    "  \"show_tqdm\": 0,\n",
    "  \"num_epochs\": 25,\n",
    "  \"batch_size\": 8192,\n",
    "  \"valid_freq\": 1,\n",
    "  \"embed_dim\": 20,\n",
    "  \"lr\": 0.01,\n",
    "  \"prefetch_to_gpu\": 0,\n",
    "  \"seed\": 11,\n",
    "  \"debug\": 0,\n",
    "  \"gnn_layers\": 2,\n",
    "  \"gnn_type\": \"ChebConv\",\n",
    "  \"finetune_epochs\": 30,\n",
    "  \"data_path\" : \"/\",\n",
    "  \"cutoff\" : 0.8,\n",
    "  \"hop\" : 8,\n",
    "  \"lambda_reg\": 0.8\n",
    "}\n",
    "\n",
    "for mode in modes:\n",
    "    for seed in seeds:\n",
    "        for hop in [2,4,8,16,24,32]:\n",
    "            with open(str(mode)+'_'+str(seed)+'_'+str(hop)+'_nhop'+'.json', 'w') as outfile:\n",
    "                d['model']=mode\n",
    "                d['seed']=seed\n",
    "                d['hop']=hop\n",
    "                json.dump(d, outfile) \n"
   ]
  },
  {
   "cell_type": "code",
   "execution_count": null,
   "metadata": {},
   "outputs": [],
   "source": []
  }
 ],
 "metadata": {
  "kernelspec": {
   "display_name": "Python 3",
   "language": "python",
   "name": "python3"
  },
  "language_info": {
   "codemirror_mode": {
    "name": "ipython",
    "version": 3
   },
   "file_extension": ".py",
   "mimetype": "text/x-python",
   "name": "python",
   "nbconvert_exporter": "python",
   "pygments_lexer": "ipython3",
   "version": "3.7.6"
  }
 },
 "nbformat": 4,
 "nbformat_minor": 4
}
